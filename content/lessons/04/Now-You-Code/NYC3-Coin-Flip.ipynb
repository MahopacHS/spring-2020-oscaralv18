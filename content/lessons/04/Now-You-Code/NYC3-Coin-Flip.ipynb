{
  "cells": [
    {
      "metadata": {},
      "cell_type": "markdown",
      "source": "# Now You Code 3: Coin Flips\n\nWrite a program to simulate 100,000 coin flips. The program should output\nthe tally of heads and tails across the number of flips.\n\nFor Example:\nAfter 100000 flips. Heads: 50030, Tails 49970\n\nOf course, since the flips are random, the counts will vary each time the program executes.\n\nYour strategy should be to use a loop to flip a coin 100,000 times.\nAfter you flip you should check for heads or tails and increment the count\naccordingly.\n\n### How do you make Python simulate a coin flip?"
    },
    {
      "metadata": {
        "trusted": false
      },
      "cell_type": "code",
      "source": "# Sample code which demostrates how to flip a coin in python\nimport random \ncoin = ['heads', 'tails']\nflip = random.choice(coin)\nprint(flip)",
      "execution_count": 11,
      "outputs": [
        {
          "name": "stdout",
          "output_type": "stream",
          "text": "heads\n"
        }
      ]
    },
    {
      "metadata": {},
      "cell_type": "markdown",
      "source": "Run the cell above a couple of times. Notice how each time you execute the code, it comes up as either `heads` or `tails`.\n\nHere's a breakdown of the code\n\n```\nline 1 imports the random module\nline 2 sets up a coin to have two choices heads or tails\nline 3 \"flips\" a coin by making a random choice among the values of the coin ('heads' or 'tails')\nline 4 prints the results of the coin flip.\n```\n\nNow that you understand how to simulate a coin flip in Python, try to design an algorithm and then write code for the program."
    },
    {
      "metadata": {
        "collapsed": true
      },
      "cell_type": "markdown",
      "source": "## Step 1: Problem Analysis \n\nInputs: \n\nOutputs: head or tale\n\nAlgorithm (Steps in Program):\n\n\n"
    },
    {
      "metadata": {
        "trusted": true
      },
      "cell_type": "code",
      "source": "import random\nh = 0 \nt = 0\ntimes =  int(input(\"how many times should it flip?: \"))\nfor i in range(times):\n    coin = ['heads','tales']\n    flip = random.choice(coin)\n    if flip == 'heads':\n        h = h + 1\n    else:\n        t = t + 1\nprint(h,t)\n   \n",
      "execution_count": 5,
      "outputs": [
        {
          "output_type": "stream",
          "name": "stdout",
          "text": "how many times should it flip?: 1000\n528 472\n"
        }
      ]
    },
    {
      "metadata": {},
      "cell_type": "markdown",
      "source": "## Step 3: Questions\n\n1. Which loop did you use to solve the problem? What it a definite or indefinite loop?\n\nAnswer:  definite \n\n\n2. Modify this program to allow you to input the number of times you would like to flip the coin. NOTE: if you enter a large number, the program could take a few minutes to execute. Be Patient!!!\n\nAnswer:   \n\n\n3. Explain how this progam could be modified to track flipping a \"three\" sided coin with `heads`, `tails` and `foos` for example? Do not modify the code, only explain your strategy.\n\nAnswer:  just add the third option into the coins choices and print it \n\n\n\n"
    },
    {
      "metadata": {},
      "cell_type": "markdown",
      "source": "## Step 4: Reflection\n\nReflect upon your experience completing this assignment. This should be a personal narrative, in your own voice, and cite specifics relevant to the activity as to help the grader understand how you arrived at the code you submitted. Things to consider touching upon: Elaborate on the process itself. Did your original problem analysis work as designed?  How many iterations did you go through before you arrived at the solution? Where did you struggle along the way and how did you overcome it? What did you learn from completing the assignment? What do you need to work on to get better? What was most valuable and least valuable about this exercise? Do you have any suggestions for improvements?\n\nTo make a good reflection, you should journal your thoughts, questions and comments while you complete the exercise.\n\nKeep your response to between 100 and 250 words.\n\n`--== Write Your Reflection Below Here ==--`\n\ni understood the task on hand but just couldn't solve the minor issues that were stopping me. i was trying to use a while loop instead of a for loop and that was one of my biggest issues while doing this progam. "
    },
    {
      "metadata": {
        "trusted": true
      },
      "cell_type": "code",
      "source": "",
      "execution_count": null,
      "outputs": []
    }
  ],
  "metadata": {
    "anaconda-cloud": {},
    "kernelspec": {
      "name": "python3",
      "display_name": "Python 3",
      "language": "python"
    },
    "language_info": {
      "mimetype": "text/x-python",
      "nbconvert_exporter": "python",
      "name": "python",
      "pygments_lexer": "ipython3",
      "version": "3.5.4",
      "file_extension": ".py",
      "codemirror_mode": {
        "version": 3,
        "name": "ipython"
      }
    },
    "toc": {
      "base_numbering": 1,
      "nav_menu": {},
      "number_sections": false,
      "sideBar": false,
      "skip_h1_title": false,
      "title_cell": "Table of Contents",
      "title_sidebar": "Contents",
      "toc_cell": false,
      "toc_position": {},
      "toc_section_display": false,
      "toc_window_display": false
    }
  },
  "nbformat": 4,
  "nbformat_minor": 1
}