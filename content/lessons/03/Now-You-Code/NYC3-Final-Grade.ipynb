{
  "cells": [
    {
      "metadata": {},
      "cell_type": "markdown",
      "source": "# Now You Code 3: Final Grade in IST256\n\n# Part 1\n\nOur Course Syllabus has a grading scale here:\n\nhttp://ist256.syr.edu/syllabus/#grading-scale\n\nWrite a Python program to input a number of points earned out of 600 and then\noutputs the registrar letter grade. \n\nFor example:\n\n    IST256 Grade Calculator\n    Enter total points out of 600:  550\n    Grade: A- \n"
    },
    {
      "metadata": {
        "collapsed": true
      },
      "cell_type": "markdown",
      "source": "## Step 1: Problem Analysis\n\nInputs: grade out of 600\n\nOutputs: final grade \n\nAlgorithm (Steps in Program):\n\n\n"
    },
    {
      "metadata": {
        "trusted": true
      },
      "cell_type": "code",
      "source": "try:\n    grade = int(input(\"what is your grade out of 600?: \"))\n    if grade>600:\n        if grade==666:\n            print(\"Satan!!!\")\n        else:\n            print(\"Impossible you dag gorum cheater!!!!\")\n    elif grade >=570:\n        print(\"your grade is an A\")\n    elif grade >=540 <=569:\n        print(\"your grade is an A-\")\n    elif grade >= 510 <=539:\n        print(\"your grade is a B+\")\n    elif grade >= 480 <=509:\n        print(\"your grade is a B\")\n    elif grade >= 450 <= 479:\n        print(\"your grade is a B-\")\n    elif grade >= 420 <= 449:\n        print(\"your grade is a C+\")\n    elif grade >= 390 <= 419:\n        print(\"your grade is a C\")\n    elif grade >= 360 <= 389:\n        print(\"your grade is a C-\")\n    elif grade >= 300 <= 359:\n        print(\"your grade is a D\")\n    elif grade >= 0 <= 299:\n        print(\"your grade is a F\")\nexcept: \n    print(\"you didn't input a grade\")",
      "execution_count": 25,
      "outputs": [
        {
          "output_type": "stream",
          "name": "stdout",
          "text": "what is your grade out of 600?: 666\nSatan!!!\n"
        }
      ]
    },
    {
      "metadata": {},
      "cell_type": "markdown",
      "source": "# Part 2\n\nNow that you have it working,  re-write your code to handle bad input. Specifically:\n\n\n- non integer values\n- integer values outside the 0 to 600 range.\n\n**Note:** Exception handling is not part of our algorithm. It's a programming concern, not a problem-solving concern!"
    },
    {
      "metadata": {
        "trusted": false
      },
      "cell_type": "code",
      "source": "## already did it on step 1\n",
      "execution_count": 1,
      "outputs": []
    },
    {
      "metadata": {},
      "cell_type": "markdown",
      "source": "## Step 3: Questions\n\n1. What specific Python Error are we handling (please provide the name of it)?\n\nAnswer:  logic error \n\n2. How many times must you execute this program and check the output before you canbe reasonably assured your code is correct? Explain.\n\nAnswer:  at least 13 times to get to all possible inputs\n\n\n3. When testing this program do you think its more important to test numbers in the middle of the grade range or exactly on the boundary between one grade range and the next. Justify your response.\n\nAnswer:  between grade boundaries to make sure the program can pick the correct side\n\n"
    },
    {
      "metadata": {},
      "cell_type": "markdown",
      "source": "## Step 4: Reflection\n\nReflect upon your experience completing this assignment. This should be a personal narrative, in your own voice, and cite specifics relevant to the activity as to help the grader understand how you arrived at the code you submitted. Things to consider touching upon: Elaborate on the process itself. Did your original problem analysis work as designed?  How many iterations did you go through before you arrived at the solution? Where did you struggle along the way and how did you overcome it? What did you learn from completing the assignment? What do you need to work on to get better? What was most valuable and least valuable about this exercise? Do you have any suggestions for improvements?\n\nTo make a good reflection, you should journal your thoughts, questions and comments while you complete the exercise.\n\nKeep your response to between 100 and 250 words.\n\n`--== Write Your Reflection Below Here ==--`\n\nthis was a very repetitive program to code and an easy task. i understand it and can probably explian it to someone "
    }
  ],
  "metadata": {
    "anaconda-cloud": {},
    "kernelspec": {
      "name": "python3",
      "display_name": "Python 3",
      "language": "python"
    },
    "language_info": {
      "mimetype": "text/x-python",
      "nbconvert_exporter": "python",
      "name": "python",
      "file_extension": ".py",
      "version": "3.5.4",
      "pygments_lexer": "ipython3",
      "codemirror_mode": {
        "version": 3,
        "name": "ipython"
      }
    },
    "toc": {
      "base_numbering": 1,
      "nav_menu": {},
      "number_sections": false,
      "sideBar": false,
      "skip_h1_title": false,
      "title_cell": "Table of Contents",
      "title_sidebar": "Contents",
      "toc_cell": false,
      "toc_position": {},
      "toc_section_display": false,
      "toc_window_display": false
    }
  },
  "nbformat": 4,
  "nbformat_minor": 1
}