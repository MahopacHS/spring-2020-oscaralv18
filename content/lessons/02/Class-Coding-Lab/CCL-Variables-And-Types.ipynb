{
  "cells": [
    {
      "metadata": {
        "trusted": true
      },
      "cell_type": "code",
      "source": "# run this code to login to https://okpy.org/ and setup the assignment for submission\nfrom ist256 import okclient\nok = okclient.Lab()",
      "execution_count": null,
      "outputs": []
    },
    {
      "metadata": {},
      "cell_type": "markdown",
      "source": "# Class Coding Lab: Variables And Types\n\nThe goals of this lab are to help you to understand:\n\n1. Python data types\n1. Getting input as different types\n1. Formatting output as different types\n1. Basic arithmetic operators\n1. How to create a program from an idea."
    },
    {
      "metadata": {
        "collapsed": true
      },
      "cell_type": "markdown",
      "source": "## Variable Types\n\nEvery Python variable has a **type**. The Type determines how the data is stored in the computer's memory: "
    },
    {
      "metadata": {
        "trusted": true
      },
      "cell_type": "code",
      "source": "a = \"4\"\ntype(a) # should be str",
      "execution_count": null,
      "outputs": []
    },
    {
      "metadata": {
        "trusted": true
      },
      "cell_type": "code",
      "source": "a = 4\ntype(a) # should be int",
      "execution_count": null,
      "outputs": []
    },
    {
      "metadata": {},
      "cell_type": "markdown",
      "source": "### Types Matter \n\nPython's built in functions and operators work differently depending on the type of the variable.:"
    },
    {
      "metadata": {
        "trusted": true
      },
      "cell_type": "code",
      "source": "a = 4\nb = 5\na + b # this plus in this case means add so 9",
      "execution_count": null,
      "outputs": []
    },
    {
      "metadata": {
        "trusted": true
      },
      "cell_type": "code",
      "source": "a = \"4\"\nb = \"5\"\na + b # the plus + in this case means concatenation, so '45'",
      "execution_count": null,
      "outputs": []
    },
    {
      "metadata": {},
      "cell_type": "markdown",
      "source": "### Switching Types\n\nthere are built-in Python functions for switching types. For example:"
    },
    {
      "metadata": {
        "trusted": true
      },
      "cell_type": "code",
      "source": "x = \"45\" # x is a str\ny = int(x)  # y is now an int\nz = float(x) # z is a float\nprint(x,y,z)",
      "execution_count": null,
      "outputs": []
    },
    {
      "metadata": {},
      "cell_type": "markdown",
      "source": "### Inputs type str\n\nWhen you use the `input()` function the result is of type `str`:\n"
    },
    {
      "metadata": {
        "trusted": true
      },
      "cell_type": "code",
      "source": "age = input(\"Enter your age: \")\ntype(age)",
      "execution_count": null,
      "outputs": []
    },
    {
      "metadata": {},
      "cell_type": "markdown",
      "source": "We can use a built in Python function to convert the type from `str` to our desired type:"
    },
    {
      "metadata": {
        "trusted": true
      },
      "cell_type": "code",
      "source": "age = input(\"Enter your age: \")\nage = int(age)\ntype(age)",
      "execution_count": null,
      "outputs": []
    },
    {
      "metadata": {},
      "cell_type": "markdown",
      "source": "We typically combine the first two lines into one expression like this:"
    },
    {
      "metadata": {
        "trusted": true
      },
      "cell_type": "code",
      "source": "age = int(input(\"Enter your age: \"))\ntype(age)",
      "execution_count": null,
      "outputs": []
    },
    {
      "metadata": {},
      "cell_type": "markdown",
      "source": "## Now Try This:\n\nWrite a program to:\n\n- input your age, convert it to an int and store it in a variable\n- add one to your age, store it in another variable\n- print out your current age and your age next year.\n\nFor example:\n```\nEnter your age: 45\nToday you are 45 next year you will be 46\n```"
    },
    {
      "metadata": {
        "trusted": true
      },
      "cell_type": "code",
      "source": "age = input(\"how old are you?\")\nage = int(age)\nnext_year = age + 1 \nprint(age,'and',next_year)",
      "execution_count": null,
      "outputs": []
    },
    {
      "metadata": {},
      "cell_type": "markdown",
      "source": "## Format Codes\n\nPython has some string format codes which allow us to control the output of our variables. \n\n- %s = format variable as str\n- %d = format variable as int\n- %f = format variable as float\n\nYou can also include the number of spaces to use for example `%5.2f` prints a float with 5 spaces 2 to the right of the decimal point."
    },
    {
      "metadata": {
        "trusted": true
      },
      "cell_type": "code",
      "source": "name = \"Mike\"\nage = 45\ngpa = 3.4\nprint(\"%s is %d years old. His gpa is %.3f\" % (name, age,gpa))",
      "execution_count": null,
      "outputs": []
    },
    {
      "metadata": {},
      "cell_type": "markdown",
      "source": "## Formatting with F-Strings\n\nThe other method of formatting data in Python is F-strings. As we saw in the last lab, F-strings use interpolation to specify the variables we would like to print in-line with the print string.\n\nYou can format an f-string\n\n- `{var:d}` formats `var` as integer\n- `{var:f}` formats `var` as float\n- `{var:.3f}` formats `var` as float to `3` decimal places.\n\nExample:"
    },
    {
      "metadata": {
        "trusted": true
      },
      "cell_type": "code",
      "source": "name =\"Mike\"\nwage = 15\nprint(f\"{name} makes ${wage:.2f} per hour\")",
      "execution_count": null,
      "outputs": []
    },
    {
      "metadata": {},
      "cell_type": "markdown",
      "source": "## Now Try This:\n\nWrite a print statement using F-strings. print GPA to 3 decimal places, rest of the output should appear just like the example above "
    },
    {
      "metadata": {
        "trusted": true
      },
      "cell_type": "code",
      "source": "name = \"Mike\"\nage = 45\ngpa = 3.4\nprint(f\"{name} is {age} years old. his gps is {gpa}\")\n\n",
      "execution_count": null,
      "outputs": []
    },
    {
      "metadata": {},
      "cell_type": "markdown",
      "source": "## Now Try This:\n\nPrint the PI variable out 3 times. Once as a string, once as an int and once as a float to 4 decimal places. Use either F-strings for Format Codes."
    },
    {
      "metadata": {
        "trusted": true
      },
      "cell_type": "code",
      "source": "PI = 3.1415927\nprint{PI: d}\nprint(\"PI\")\nprint{PI: .4f}",
      "execution_count": null,
      "outputs": []
    },
    {
      "metadata": {},
      "cell_type": "markdown",
      "source": "## Putting it all together: Fred's Fence Estimator\n\nFred's Fence has hired you to write a program to  estimate the cost of their fencing projects. For a given length and width you will calculate the number of 6 foot fence sections, and the total cost of the project. Each fence section costs $23.95. Assume the posts and labor are free.\n\nProgram Inputs:\n\n- Length of yard in feet\n- Width of yard in feet\n    \nProgram Outputs:\n\n- Perimeter of yard ( 2 x (Length + Width))\n- Number of fence sections required (Permiemer divided by 6 )\n- Total cost for fence ( fence sections multiplied by $23.95 )\n    \nNOTE: All outputs should be formatted to 2 decimal places: e.g. 123.05 "
    },
    {
      "metadata": {
        "trusted": true
      },
      "cell_type": "code",
      "source": "#TODO:\n# 1. Input length of yard as float, assign to a variable\n# 2. Input Width of yard as float, assign to a variable\n# 3. Calculate perimeter of yard, assign to a variable\n# 4. calculate number of fence sections, assign to a variable \n# 5. calculate total cost, assign to variable\n# 6. print perimeter of yard\n# 7. print number of fence sections\n# 8. print total cost for fence. ",
      "execution_count": null,
      "outputs": []
    },
    {
      "metadata": {},
      "cell_type": "markdown",
      "source": "## Now Try This\n\nBased on the provided TODO, write the program in python in the cell below. Your solution should have 8 lines of code, one for each TODO.\n\n**HINT**: Don't try to write the program in one sitting. Instead write a line of code, run it, verify it works and fix any issues with it before writing the next line of code. "
    },
    {
      "metadata": {
        "trusted": true
      },
      "cell_type": "code",
      "source": "length = float(input(\"length:\"))\nwidth = float(input(\"width:\"))\nperimeter = (2*(width + length)) \nfence_sections = int(perimeter/6)\ntotal = 23.95*(fence_sections)\nprint(\"The perimter is %.2f\" %(perimeter))\nprint(\"You need %d sections of fence\"%(fence_sections))\nprint(\"This would cost you $%.2f \"%(total))\n",
      "execution_count": 7,
      "outputs": [
        {
          "output_type": "stream",
          "name": "stdout",
          "text": "length?12\nwidth?4\nThe perimter is 32.00\nYou need 5 sections of fence\nThis would cost you $119.75 \n"
        }
      ]
    },
    {
      "metadata": {},
      "cell_type": "markdown",
      "source": "# Metacognition\n\nPlease answer the following questions. This should be a personal narrative, in your own voice. Answer the questions by double clicking on the question and placing your answer next to the Answer: prompt.\n\n\n1. Record any questions you have about this lab that you would like to ask in recitation. It is expected you will have questions if you did not complete the code sections correctly.  Learning how to articulate what you do not understand is an important skill of critical thinking. \n\nAnswer: is there any shorter way to execute multiple of the steps at once?\n\n2. What was the most difficult aspect of completing this lab? Least difficult?  \n\nAnswer: to print everything properly so in future steps its not messed up \n\n3. What aspects of this lab do you find most valuable? Least valuable?\n\nAnswer: everything is equally as equal \n\n4. Rate your comfort level with this week's material so far.   \n\n1 ==> I can do this on my own and explain how to do it.   \n2 ==> I can do this on my own without any help.   \n3 ==> I can do this with help or guidance from others. If you choose this level please list those who helped you.   \n4 ==> I don't understand this at all yet and need extra help. If you choose this please try to articulate that which you do not understand.   \n\nAnswer: 2\n\n"
    },
    {
      "metadata": {
        "trusted": true
      },
      "cell_type": "code",
      "source": "# to save and turn in your work, execute this cell. Your latest submission will be graded. \nok.submit()",
      "execution_count": 8,
      "outputs": [
        {
          "output_type": "error",
          "ename": "NameError",
          "evalue": "name 'ok' is not defined",
          "traceback": [
            "\u001b[0;31m---------------------------------------------------------------------------\u001b[0m",
            "\u001b[0;31mNameError\u001b[0m                                 Traceback (most recent call last)",
            "\u001b[0;32m<ipython-input-8-cbe19a97beab>\u001b[0m in \u001b[0;36m<module>\u001b[0;34m()\u001b[0m\n\u001b[1;32m      1\u001b[0m \u001b[0;31m# to save and turn in your work, execute this cell. Your latest submission will be graded.\u001b[0m\u001b[0;34m\u001b[0m\u001b[0;34m\u001b[0m\u001b[0m\n\u001b[0;32m----> 2\u001b[0;31m \u001b[0mok\u001b[0m\u001b[0;34m.\u001b[0m\u001b[0msubmit\u001b[0m\u001b[0;34m(\u001b[0m\u001b[0;34m)\u001b[0m\u001b[0;34m\u001b[0m\u001b[0m\n\u001b[0m",
            "\u001b[0;31mNameError\u001b[0m: name 'ok' is not defined"
          ]
        }
      ]
    },
    {
      "metadata": {
        "trusted": true
      },
      "cell_type": "code",
      "source": "",
      "execution_count": null,
      "outputs": []
    }
  ],
  "metadata": {
    "anaconda-cloud": {},
    "kernelspec": {
      "name": "python3",
      "display_name": "Python 3",
      "language": "python"
    },
    "language_info": {
      "mimetype": "text/x-python",
      "nbconvert_exporter": "python",
      "name": "python",
      "file_extension": ".py",
      "version": "3.5.4",
      "pygments_lexer": "ipython3",
      "codemirror_mode": {
        "version": 3,
        "name": "ipython"
      }
    },
    "toc": {
      "base_numbering": 1,
      "nav_menu": {},
      "number_sections": false,
      "sideBar": false,
      "skip_h1_title": false,
      "title_cell": "Table of Contents",
      "title_sidebar": "Contents",
      "toc_cell": false,
      "toc_position": {},
      "toc_section_display": false,
      "toc_window_display": false
    }
  },
  "nbformat": 4,
  "nbformat_minor": 1
}